{
 "cells": [
  {
   "cell_type": "markdown",
   "id": "0e89a5bd-7354-45ad-8a42-06dc6cddfad5",
   "metadata": {},
   "source": [
    "# 1. IMPORT"
   ]
  },
  {
   "cell_type": "code",
   "execution_count": 2,
   "id": "d8b17544-6e71-44e7-8b1f-2fa6db6054f7",
   "metadata": {},
   "outputs": [],
   "source": [
    "from enum import Enum\n",
    "import numpy as np\n",
    "import matplotlib.pyplot as plt"
   ]
  },
  {
   "cell_type": "markdown",
   "id": "ee62f80b-141b-4c5c-bf59-1306d547b134",
   "metadata": {},
   "source": [
    "# 2. DEFINITIONS"
   ]
  },
  {
   "cell_type": "markdown",
   "id": "6935564e-290c-4bf9-b815-605f690f0efe",
   "metadata": {},
   "source": [
    "## 2.1. L-System"
   ]
  },
  {
   "cell_type": "code",
   "execution_count": 5,
   "id": "91f9d5c5-6175-4ea6-86f4-4dd279f50898",
   "metadata": {},
   "outputs": [],
   "source": [
    "class L_System:\n",
    "    __slots__ = ['__variables', '__constants', '__axiom', '__rules']\n",
    "\n",
    "    def __init__(self):\n",
    "        self.__variables = set()\n",
    "        self.__constants = set()\n",
    "        self.__axiom = None\n",
    "        self.__rules = {}\n",
    "        \n",
    "        return\n",
    "\n",
    "    def add_variable(self, p_variable):\n",
    "        self.__variables.add(p_variable)\n",
    "        \n",
    "        return\n",
    "\n",
    "    def add_constant(self, p_constant):\n",
    "        self.__constants.add(p_constant)\n",
    "        \n",
    "        return\n",
    "\n",
    "    def set_axiom(self, p_axiom):\n",
    "        for c in p_axiom:\n",
    "            assert c in self.__variables or c in self.__constants\n",
    "\n",
    "        self.__axiom = p_axiom\n",
    "        \n",
    "        return\n",
    "\n",
    "    def add_rule(self, p_from, p_to):\n",
    "        assert p_from in self.__variables\n",
    "        for c in p_to:\n",
    "            assert c in self.__variables or c in self.__constants\n",
    "\n",
    "        self.__rules[p_from] = p_to\n",
    "        \n",
    "        return\n",
    "\n",
    "    def eval(self, p_n):\n",
    "        result = self.__axiom\n",
    "\n",
    "        for _ in range(p_n):\n",
    "            components = []\n",
    "\n",
    "            for c in result:\n",
    "                if c in self.__rules.keys():\n",
    "                    components.append(self.__rules[c])\n",
    "                else:\n",
    "                    components.append(c)\n",
    "\n",
    "            result = ''.join(components)\n",
    "        \n",
    "        return result\n",
    "\n",
    "    def handle(self):\n",
    "        pass\n",
    "\n",
    "    def __str__(self):\n",
    "        result = f'VARIABLES: {self.__variables}\\n'\n",
    "        result += f'CONSTANTS: {self.__constants}\\n'\n",
    "        result += f'AXIOM: {self.__axiom}\\n'\n",
    "        result += f'RULES: {self.__rules}'\n",
    "\n",
    "        return result\n",
    "\n",
    "    def __repr__(self):\n",
    "        return self.__str__()"
   ]
  },
  {
   "cell_type": "markdown",
   "id": "a2c76af1-487a-4a15-9049-9e097ef20cbb",
   "metadata": {},
   "source": [
    "## 2.2. Direction"
   ]
  },
  {
   "cell_type": "code",
   "execution_count": 7,
   "id": "542ec835-d4f7-4bda-b997-a11d8702f18b",
   "metadata": {},
   "outputs": [],
   "source": [
    "class Direction(Enum):\n",
    "    NORTH = 0\n",
    "    EAST = 1\n",
    "    SOUTH = 2\n",
    "    WEST = 3\n",
    "\n",
    "    # '-' means turn left and '+' means turn right\n",
    "    def rotate(self, p_sign):\n",
    "        if p_sign == '+':\n",
    "            return Direction((self.value + 1) % 4)\n",
    "        return Direction((self.value - 1) % 4)"
   ]
  },
  {
   "cell_type": "markdown",
   "id": "bc8ec4e0-e609-4903-8424-7e74d0115c8b",
   "metadata": {},
   "source": [
    "## 2.3. L-System code into directions"
   ]
  },
  {
   "cell_type": "code",
   "execution_count": 9,
   "id": "ec76ea20-3db6-4c3e-bbdb-7b31376b7aec",
   "metadata": {},
   "outputs": [],
   "source": [
    "def L_System_2_directions(p_code, p_start_direction):\n",
    "    directions = []\n",
    "    last_direction = p_start_direction\n",
    "\n",
    "    for c in p_code:\n",
    "        if c in ['X', 'Y']:\n",
    "            continue\n",
    "            \n",
    "        if c == 'F':\n",
    "            directions.append(last_direction)\n",
    "            continue\n",
    "            \n",
    "        last_direction = last_direction.rotate(c)\n",
    "\n",
    "    return directions"
   ]
  },
  {
   "cell_type": "markdown",
   "id": "ed2b429a-9e99-4876-b95b-40c35cf472ac",
   "metadata": {},
   "source": [
    "## 2.4. Next point based on direction"
   ]
  },
  {
   "cell_type": "code",
   "execution_count": 11,
   "id": "c796b404-4f3c-44d8-9eda-3f46180cc54f",
   "metadata": {},
   "outputs": [],
   "source": [
    "def next_point(p_point, p_direction):\n",
    "    match p_direction:\n",
    "        case Direction.NORTH:\n",
    "            return (p_point[0], p_point[1] + 1)\n",
    "        case Direction.EAST:\n",
    "            return (p_point[0] + 1, p_point[1])\n",
    "        case Direction.SOUTH:\n",
    "            return (p_point[0], p_point[1] - 1)\n",
    "        case Direction.WEST:\n",
    "            return (p_point[0] - 1, p_point[1])"
   ]
  },
  {
   "cell_type": "markdown",
   "id": "97bb512a-29b5-4530-86b3-55e51d0e79d5",
   "metadata": {},
   "source": [
    "## 2.5. Scaling factor"
   ]
  },
  {
   "cell_type": "code",
   "execution_count": 13,
   "id": "e439e486-9c3d-4915-8b8f-3a4035fde41b",
   "metadata": {},
   "outputs": [],
   "source": [
    "def scale_factor(p_n):\n",
    "    return 2 ** p_n - 1"
   ]
  },
  {
   "cell_type": "markdown",
   "id": "a259e93d-6415-4110-badd-e9f0f3de7ea0",
   "metadata": {},
   "source": [
    "## 2.6. Assemly"
   ]
  },
  {
   "cell_type": "code",
   "execution_count": 15,
   "id": "465c38e2-62ff-4c6b-b168-2b4b05b976c4",
   "metadata": {},
   "outputs": [],
   "source": [
    "def get_points(p_code, p_start_direction=Direction.NORTH):\n",
    "    directions = L_System_2_directions(p_code, p_start_direction)\n",
    "    points = [(0, 0)]\n",
    "\n",
    "    for direction in directions:\n",
    "        points.append(next_point(points[-1], direction))\n",
    "\n",
    "    data = np.array(points, dtype=np.float64)\n",
    "    \n",
    "    return data"
   ]
  },
  {
   "cell_type": "markdown",
   "id": "ae9dd59d-246f-422f-9e25-14b9efaea98c",
   "metadata": {},
   "source": [
    "## 2.7. Squish"
   ]
  },
  {
   "cell_type": "code",
   "execution_count": 17,
   "id": "ec10df75-5020-4829-a7ab-93ae0b3167d5",
   "metadata": {},
   "outputs": [],
   "source": [
    "def squish(p_data, p_n, p_start_point=(0, 0)):\n",
    "    data = p_data / scale_factor(p_n)\n",
    "    \n",
    "    return data + p_start_point"
   ]
  },
  {
   "cell_type": "markdown",
   "id": "36dd8e1e-3cfb-49e9-8cd5-04560f79cf3d",
   "metadata": {},
   "source": [
    "# 3. Examples"
   ]
  },
  {
   "cell_type": "markdown",
   "id": "50320202-383b-4aed-a89b-5a5a650bd0d4",
   "metadata": {},
   "source": [
    "## 3.1. Hilbert Curve"
   ]
  },
  {
   "cell_type": "code",
   "execution_count": 20,
   "id": "7a2d11e2-99a5-4c57-b224-31e0510de802",
   "metadata": {},
   "outputs": [],
   "source": [
    "hilbert_curve = L_System()"
   ]
  },
  {
   "cell_type": "code",
   "execution_count": 21,
   "id": "a03b5b02-0739-4187-9379-26380651c686",
   "metadata": {},
   "outputs": [],
   "source": [
    "hilbert_curve.add_variable('X')\n",
    "hilbert_curve.add_variable('Y')"
   ]
  },
  {
   "cell_type": "code",
   "execution_count": 22,
   "id": "f30d37f3-e044-4b73-b641-3dfc516f75c4",
   "metadata": {},
   "outputs": [],
   "source": [
    "hilbert_curve.add_constant('F')\n",
    "hilbert_curve.add_constant('+')\n",
    "hilbert_curve.add_constant('-')"
   ]
  },
  {
   "cell_type": "code",
   "execution_count": 23,
   "id": "8d73c4ae-fda9-4c30-813f-76d75a97ed58",
   "metadata": {},
   "outputs": [],
   "source": [
    "hilbert_curve.set_axiom('X')"
   ]
  },
  {
   "cell_type": "code",
   "execution_count": 24,
   "id": "b36c5e07-c3dd-4e60-bc16-150e461ac282",
   "metadata": {},
   "outputs": [],
   "source": [
    "hilbert_curve.add_rule('X', '+YF-XFX-FY+')\n",
    "hilbert_curve.add_rule('Y', '-XF+YFY+FX-')"
   ]
  },
  {
   "cell_type": "code",
   "execution_count": 25,
   "id": "81a2791e-06dc-4c61-b247-51bb13b5f396",
   "metadata": {},
   "outputs": [],
   "source": [
    "N = 5"
   ]
  },
  {
   "cell_type": "code",
   "execution_count": 26,
   "id": "a688d5da-badc-4f30-ba6e-4562022967e2",
   "metadata": {},
   "outputs": [],
   "source": [
    "hilbert_data = squish(get_points(hilbert_curve.eval(N)), N)"
   ]
  },
  {
   "cell_type": "code",
   "execution_count": 27,
   "id": "86104ab6-9c36-4724-a37a-d7217ff7e618",
   "metadata": {},
   "outputs": [
    {
     "data": {
      "text/plain": [
       "[<matplotlib.lines.Line2D at 0x1c8e2afca40>]"
      ]
     },
     "execution_count": 27,
     "metadata": {},
     "output_type": "execute_result"
    },
    {
     "data": {
      "image/png": "[encoded data removed]",
      "text/plain": [
       "<Figure size 500x500 with 1 Axes>"
      ]
     },
     "metadata": {},
     "output_type": "display_data"
    }
   ],
   "source": [
    "plt.figure(figsize=(5, 5))\n",
    "plt.plot(hilbert_data[:,0], hilbert_data[:,1])"
   ]
  },
  {
   "cell_type": "markdown",
   "id": "ce40aecf-5649-480a-913d-928622c6b474",
   "metadata": {},
   "source": [
    "## 3.2. Peano Curve"
   ]
  },
  {
   "cell_type": "code",
   "execution_count": 29,
   "id": "62be2dbd-a779-4ddf-aefa-cb9481eff139",
   "metadata": {},
   "outputs": [],
   "source": [
    "peano_curve = L_System()"
   ]
  },
  {
   "cell_type": "code",
   "execution_count": 30,
   "id": "920db396-e0af-4668-82c1-91e4dc0ea30d",
   "metadata": {},
   "outputs": [],
   "source": [
    "peano_curve.add_variable('F')"
   ]
  },
  {
   "cell_type": "code",
   "execution_count": 31,
   "id": "1ca20423-800c-46d8-9b9a-7c8b078debb2",
   "metadata": {},
   "outputs": [],
   "source": [
    "peano_curve.add_constant('+')\n",
    "peano_curve.add_constant('-')"
   ]
  },
  {
   "cell_type": "code",
   "execution_count": 32,
   "id": "35914a9d-5399-4032-9946-b37c870f5237",
   "metadata": {},
   "outputs": [],
   "source": [
    "peano_curve.set_axiom('F')"
   ]
  },
  {
   "cell_type": "code",
   "execution_count": 33,
   "id": "4b738e8d-83ce-4dc9-8ede-d905258814d0",
   "metadata": {},
   "outputs": [],
   "source": [
    "peano_curve.add_rule('F', 'F+F-F-FF-F-F-FF')"
   ]
  },
  {
   "cell_type": "code",
   "execution_count": 34,
   "id": "717f0824-2e81-4e60-8015-e261e83c0968",
   "metadata": {},
   "outputs": [],
   "source": [
    "N = 3"
   ]
  },
  {
   "cell_type": "code",
   "execution_count": 35,
   "id": "84a00ef1-0d4e-4334-adba-7efd30286160",
   "metadata": {},
   "outputs": [],
   "source": [
    "peano_data = squish(get_points(peano_curve.eval(N)), N)"
   ]
  },
  {
   "cell_type": "code",
   "execution_count": 36,
   "id": "eb69573f-54e8-4622-a580-e621594ec28e",
   "metadata": {},
   "outputs": [
    {
     "data": {
      "text/plain": [
       "[<matplotlib.lines.Line2D at 0x1c8e2bec770>]"
      ]
     },
     "execution_count": 36,
     "metadata": {},
     "output_type": "execute_result"
    },
    {
     "data": {
      "image/png": "[encoded data removed]",
      "text/plain": [
       "<Figure size 500x500 with 1 Axes>"
      ]
     },
     "metadata": {},
     "output_type": "display_data"
    }
   ],
   "source": [
    "plt.figure(figsize=(5, 5))\n",
    "plt.plot(peano_data[:,0], peano_data[:,1])"
   ]
  }
 ],
 "metadata": {
  "kernelspec": {
   "display_name": "Python 3 (ipykernel)",
   "language": "python",
   "name": "python3"
  },
  "language_info": {
   "codemirror_mode": {
    "name": "ipython",
    "version": 3
   },
   "file_extension": ".py",
   "mimetype": "text/x-python",
   "name": "python",
   "nbconvert_exporter": "python",
   "pygments_lexer": "ipython3",
   "version": "3.12.4"
  }
 },
 "nbformat": 4,
 "nbformat_minor": 5
}
